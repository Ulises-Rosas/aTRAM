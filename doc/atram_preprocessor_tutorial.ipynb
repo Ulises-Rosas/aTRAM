{
 "cells": [
  {
   "cell_type": "markdown",
   "metadata": {},
   "source": [
    "# A tutorial for atram_preprocessor.py\n",
    "\n",
    "This program reads a series of related FASTA or FASTQ files and builds an aTRAM database. This aTRAM database is actually two or more databases (typically several).\n",
    "\n",
    "- An SQLite3 database that holds the contents of the FASTA/FASTQ files in a format that can be easily and quickly queried. It takes three pieces of information from the original files are: the sequence name, sequence end (1, 2, or none), and the sequence itself.\n",
    "\n",
    "\n",
    "- A set of BLAST databases. atram.py uses multiple BLAST databases. This dataset division enables parallelized read queries and greatly improves performance even for serial queries.\n",
    "\n",
    "\n",
    "- Note: That during the assembly process, in atram.py, other **temporary** SQLite3 and BLAST databases will also be built.\n",
    "\n",
    "![atram_preprocessor.py](images/atram_preprocessor.png \"aTRAM pre-processor\")"
   ]
  },
  {
   "cell_type": "markdown",
   "metadata": {},
   "source": [
    "## The input FASTA files\n",
    "\n",
    "We have provided some input files that we can use to practice using aTRAM in the `doc/data` directory. For this tutorial, we will be using the `tutorial_end_1.fasta.gz` and `tutorial_end_2.fasta.gz` files.\n",
    "\n",
    "\"Where do we want to store the built aTRAM databases?\" I prefer to keep my aTRAM built databases in their own directory on a large disk. So, I create a `atram_db` directory and point aTRAM to that. In Linux Bash this looks like `mkdir -p /path/to/my/dir/atram_db'."
   ]
  },
  {
   "cell_type": "code",
   "execution_count": null,
   "metadata": {},
   "outputs": [],
   "source": []
  }
 ],
 "metadata": {
  "kernelspec": {
   "display_name": "Python 3",
   "language": "python",
   "name": "python3"
  },
  "language_info": {
   "codemirror_mode": {
    "name": "ipython",
    "version": 3
   },
   "file_extension": ".py",
   "mimetype": "text/x-python",
   "name": "python",
   "nbconvert_exporter": "python",
   "pygments_lexer": "ipython3",
   "version": "3.7.3"
  },
  "toc": {
   "base_numbering": 1,
   "nav_menu": {},
   "number_sections": true,
   "sideBar": true,
   "skip_h1_title": false,
   "title_cell": "Table of Contents",
   "title_sidebar": "Contents",
   "toc_cell": false,
   "toc_position": {},
   "toc_section_display": true,
   "toc_window_display": false
  }
 },
 "nbformat": 4,
 "nbformat_minor": 2
}
